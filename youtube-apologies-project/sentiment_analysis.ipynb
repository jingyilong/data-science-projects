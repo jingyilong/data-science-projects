{
 "cells": [
  {
   "cell_type": "code",
   "execution_count": 12,
   "id": "11a325c0",
   "metadata": {
    "scrolled": true
   },
   "outputs": [
    {
     "name": "stdout",
     "output_type": "stream",
     "text": [
      "Requirement already satisfied: nltk in /Users/susanedang/Library/Python/3.11/lib/python/site-packages (3.8.1)\n",
      "Requirement already satisfied: click in /Users/susanedang/Library/Python/3.11/lib/python/site-packages (from nltk) (8.1.3)\n",
      "Requirement already satisfied: joblib in /Users/susanedang/Library/Python/3.11/lib/python/site-packages (from nltk) (1.2.0)\n",
      "Requirement already satisfied: regex>=2021.8.3 in /Users/susanedang/Library/Python/3.11/lib/python/site-packages (from nltk) (2023.3.23)\n",
      "Requirement already satisfied: tqdm in /Users/susanedang/Library/Python/3.11/lib/python/site-packages (from nltk) (4.65.0)\n",
      "Note: you may need to restart the kernel to use updated packages.\n",
      "Requirement already satisfied: pandas in /Users/susanedang/Library/Python/3.11/lib/python/site-packages (2.0.0)\n",
      "Requirement already satisfied: python-dateutil>=2.8.2 in /usr/local/lib/python3.11/site-packages (from pandas) (2.8.2)\n",
      "Requirement already satisfied: pytz>=2020.1 in /Users/susanedang/Library/Python/3.11/lib/python/site-packages (from pandas) (2023.3)\n",
      "Requirement already satisfied: tzdata>=2022.1 in /Users/susanedang/Library/Python/3.11/lib/python/site-packages (from pandas) (2023.3)\n",
      "Requirement already satisfied: numpy>=1.21.0 in /Users/susanedang/Library/Python/3.11/lib/python/site-packages (from pandas) (1.24.2)\n",
      "Requirement already satisfied: six>=1.5 in /usr/local/lib/python3.11/site-packages (from python-dateutil>=2.8.2->pandas) (1.16.0)\n",
      "Note: you may need to restart the kernel to use updated packages.\n",
      "Requirement already satisfied: numpy in /Users/susanedang/Library/Python/3.11/lib/python/site-packages (1.24.2)\n",
      "Note: you may need to restart the kernel to use updated packages.\n",
      "Requirement already satisfied: seaborn in /usr/local/lib/python3.11/site-packages (0.12.2)\n",
      "Requirement already satisfied: numpy!=1.24.0,>=1.17 in /Users/susanedang/Library/Python/3.11/lib/python/site-packages (from seaborn) (1.24.2)\n",
      "Requirement already satisfied: pandas>=0.25 in /Users/susanedang/Library/Python/3.11/lib/python/site-packages (from seaborn) (2.0.0)\n",
      "Requirement already satisfied: matplotlib!=3.6.1,>=3.1 in /usr/local/lib/python3.11/site-packages (from seaborn) (3.7.1)\n",
      "Requirement already satisfied: contourpy>=1.0.1 in /usr/local/lib/python3.11/site-packages (from matplotlib!=3.6.1,>=3.1->seaborn) (1.0.7)\n",
      "Requirement already satisfied: cycler>=0.10 in /usr/local/lib/python3.11/site-packages (from matplotlib!=3.6.1,>=3.1->seaborn) (0.11.0)\n",
      "Requirement already satisfied: fonttools>=4.22.0 in /usr/local/lib/python3.11/site-packages (from matplotlib!=3.6.1,>=3.1->seaborn) (4.39.3)\n",
      "Requirement already satisfied: kiwisolver>=1.0.1 in /usr/local/lib/python3.11/site-packages (from matplotlib!=3.6.1,>=3.1->seaborn) (1.4.4)\n",
      "Requirement already satisfied: packaging>=20.0 in /usr/local/lib/python3.11/site-packages (from matplotlib!=3.6.1,>=3.1->seaborn) (23.1)\n",
      "Requirement already satisfied: pillow>=6.2.0 in /usr/local/lib/python3.11/site-packages (from matplotlib!=3.6.1,>=3.1->seaborn) (9.5.0)\n",
      "Requirement already satisfied: pyparsing>=2.3.1 in /usr/local/lib/python3.11/site-packages (from matplotlib!=3.6.1,>=3.1->seaborn) (3.0.9)\n",
      "Requirement already satisfied: python-dateutil>=2.7 in /usr/local/lib/python3.11/site-packages (from matplotlib!=3.6.1,>=3.1->seaborn) (2.8.2)\n",
      "Requirement already satisfied: pytz>=2020.1 in /Users/susanedang/Library/Python/3.11/lib/python/site-packages (from pandas>=0.25->seaborn) (2023.3)\n",
      "Requirement already satisfied: tzdata>=2022.1 in /Users/susanedang/Library/Python/3.11/lib/python/site-packages (from pandas>=0.25->seaborn) (2023.3)\n",
      "Requirement already satisfied: six>=1.5 in /usr/local/lib/python3.11/site-packages (from python-dateutil>=2.7->matplotlib!=3.6.1,>=3.1->seaborn) (1.16.0)\n",
      "Note: you may need to restart the kernel to use updated packages.\n",
      "Requirement already satisfied: matplotlib in /usr/local/lib/python3.11/site-packages (3.7.1)\n",
      "Requirement already satisfied: contourpy>=1.0.1 in /usr/local/lib/python3.11/site-packages (from matplotlib) (1.0.7)\n",
      "Requirement already satisfied: cycler>=0.10 in /usr/local/lib/python3.11/site-packages (from matplotlib) (0.11.0)\n",
      "Requirement already satisfied: fonttools>=4.22.0 in /usr/local/lib/python3.11/site-packages (from matplotlib) (4.39.3)\n",
      "Requirement already satisfied: kiwisolver>=1.0.1 in /usr/local/lib/python3.11/site-packages (from matplotlib) (1.4.4)\n",
      "Requirement already satisfied: numpy>=1.20 in /Users/susanedang/Library/Python/3.11/lib/python/site-packages (from matplotlib) (1.24.2)\n",
      "Requirement already satisfied: packaging>=20.0 in /usr/local/lib/python3.11/site-packages (from matplotlib) (23.1)\n",
      "Requirement already satisfied: pillow>=6.2.0 in /usr/local/lib/python3.11/site-packages (from matplotlib) (9.5.0)\n",
      "Requirement already satisfied: pyparsing>=2.3.1 in /usr/local/lib/python3.11/site-packages (from matplotlib) (3.0.9)\n",
      "Requirement already satisfied: python-dateutil>=2.7 in /usr/local/lib/python3.11/site-packages (from matplotlib) (2.8.2)\n",
      "Requirement already satisfied: six>=1.5 in /usr/local/lib/python3.11/site-packages (from python-dateutil>=2.7->matplotlib) (1.16.0)\n",
      "Note: you may need to restart the kernel to use updated packages.\n",
      "Requirement already satisfied: vadersentiment in /usr/local/lib/python3.11/site-packages (3.3.2)\n",
      "Requirement already satisfied: requests in /usr/local/lib/python3.11/site-packages (from vadersentiment) (2.28.2)\n",
      "Requirement already satisfied: charset-normalizer<4,>=2 in /usr/local/lib/python3.11/site-packages (from requests->vadersentiment) (3.1.0)\n",
      "Requirement already satisfied: idna<4,>=2.5 in /usr/local/lib/python3.11/site-packages (from requests->vadersentiment) (3.4)\n",
      "Requirement already satisfied: urllib3<1.27,>=1.21.1 in /usr/local/lib/python3.11/site-packages (from requests->vadersentiment) (1.26.15)\n",
      "Requirement already satisfied: certifi>=2017.4.17 in /usr/local/lib/python3.11/site-packages (from requests->vadersentiment) (2022.12.7)\n",
      "Note: you may need to restart the kernel to use updated packages.\n"
     ]
    }
   ],
   "source": [
    "%pip install nltk\n",
    "%pip install pandas\n",
    "%pip install numpy\n",
    "%pip install seaborn\n",
    "%pip install matplotlib\n",
    "%pip install vadersentiment"
   ]
  },
  {
   "cell_type": "code",
   "execution_count": 10,
   "id": "a608ce9d",
   "metadata": {},
   "outputs": [
    {
     "name": "stderr",
     "output_type": "stream",
     "text": [
      "[nltk_data] Downloading package punkt to\n",
      "[nltk_data]     /Users/susanedang/nltk_data...\n",
      "[nltk_data]   Package punkt is already up-to-date!\n",
      "[nltk_data] Downloading package averaged_perceptron_tagger to\n",
      "[nltk_data]     /Users/susanedang/nltk_data...\n",
      "[nltk_data]   Package averaged_perceptron_tagger is already up-to-\n",
      "[nltk_data]       date!\n",
      "[nltk_data] Downloading package wordnet to\n",
      "[nltk_data]     /Users/susanedang/nltk_data...\n",
      "[nltk_data]   Package wordnet is already up-to-date!\n"
     ]
    }
   ],
   "source": [
    "import nltk\n",
    "import re\n",
    "import os\n",
    "\n",
    "nltk.download('punkt')\n",
    "nltk.download('averaged_perceptron_tagger')\n",
    "nltk.download('wordnet')\n",
    "\n",
    "# to turn each word into an item\n",
    "from nltk.tokenize import word_tokenize\n",
    "from nltk.tokenize import sent_tokenize\n",
    "from nltk import PorterStemmer\n",
    "from nltk.stem import WordNetLemmatizer\n",
    "\n",
    "# to tag each word as a part of speech\n",
    "from nltk.tag import pos_tag\n",
    "\n",
    "# NLTK's list of stopwords\n",
    "from nltk.corpus import stopwords"
   ]
  },
  {
   "cell_type": "code",
   "execution_count": 25,
   "id": "446b8cda",
   "metadata": {},
   "outputs": [
    {
     "name": "stdout",
     "output_type": "stream",
     "text": [
      "Sentiment of text 1: 13.0 % negative, 77.9 % neutral 9.1 % positive\n"
     ]
    }
   ],
   "source": [
    "Austin = open('001_Austin.txt','r')\n",
    "\n",
    "\n",
    "from vaderSentiment.vaderSentiment import SentimentIntensityAnalyzer\n",
    "sentiment = SentimentIntensityAnalyzer()\n",
    "\n",
    "text_001 = Austin\n",
    "sent_001 = sentiment.polarity_scores(Austin)\n",
    "print(\"Sentiment of text 1:\", sent_001['neg']*100, \"% negative,\", sent_001['neu']*100, \"% neutral\", sent_001['pos']*100, \"% positive\")\n"
   ]
  },
  {
   "cell_type": "code",
   "execution_count": null,
   "id": "c75d8a5d",
   "metadata": {},
   "outputs": [],
   "source": [
    "# TOKENIZE SENTENCES (in case we need some sort of sentence analysis)\n",
    "# ----------\n",
    "sentences = sent_tokenize(Tati) # NLTK function\n",
    "Tati_sentences = len(sentences)"
   ]
  },
  {
   "cell_type": "code",
   "execution_count": 45,
   "id": "379adec2",
   "metadata": {},
   "outputs": [
    {
     "name": "stdout",
     "output_type": "stream",
     "text": [
      "Sentiment of Tati's apology: 10.0 % negative, 74.0 % neutral 16.0 % positive\n"
     ]
    }
   ],
   "source": [
    "import pandas as pd\n",
    "Tati = open('050_Tati.txt', encoding=\"utf-8\").read()\n",
    "\n",
    "from vaderSentiment.vaderSentiment import SentimentIntensityAnalyzer\n",
    "sentiment = SentimentIntensityAnalyzer()\n",
    "\n",
    "text_050 = Tati\n",
    "sent_050 = sentiment.polarity_scores(Tati)\n",
    "print(\"Sentiment of text 2:\", sent_050['neg']*100, \"% negative,\", sent_050['neu']*100, \"% neutral\", sent_050['pos']*100, \"% positive\")"
   ]
  },
  {
   "cell_type": "code",
   "execution_count": null,
   "id": "c73f59eb",
   "metadata": {},
   "outputs": [],
   "source": []
  },
  {
   "cell_type": "code",
   "execution_count": 48,
   "id": "05e7770c",
   "metadata": {
    "scrolled": true
   },
   "outputs": [
    {
     "data": {
      "text/plain": [
       "[('jeffrey', 40),\n",
       " ('james', 37),\n",
       " ('shane', 32),\n",
       " ('charles', 32),\n",
       " ('video', 25),\n",
       " ('much', 22),\n",
       " ('want', 21),\n",
       " ('like', 21),\n",
       " ('time', 20),\n",
       " ('feel', 17),\n",
       " ('love', 17),\n",
       " ('going', 16),\n",
       " ('really', 16),\n",
       " ('know', 15),\n",
       " ('even', 15),\n",
       " ('back', 15),\n",
       " ('life', 15),\n",
       " ('people', 14),\n",
       " ('would', 14),\n",
       " ('think', 13)]"
      ]
     },
     "execution_count": 48,
     "metadata": {},
     "output_type": "execute_result"
    }
   ],
   "source": [
    "import pandas as pd\n",
    "\n",
    "Tati = Tati.lower() # lowercase \n",
    "Tati = re.sub('\\W+',' ', Tati) # non-alphanumeric characters\n",
    "Tati = re.sub(r\"[^a-zA-Z0-9]+\", ' ', Tati) # non-alphanumeric characters\n",
    "\n",
    "# tokenize\n",
    "Tati_token = word_tokenize(Tati)\n",
    "\n",
    "# making lemmatized list\n",
    "lemma = WordNetLemmatizer()\n",
    "Tati_lemma = []\n",
    "Tati_filter = []\n",
    "\n",
    "from nltk.corpus import stopwords\n",
    "stopwords = stopwords.words('english')\n",
    "\n",
    "for word in Tati_filter:\n",
    "    Tati_lemma.append(lemma.lemmatize(word))\n",
    "    \n",
    "for word in Tati_token:\n",
    "    if word not in stopwords:\n",
    "        Tati_filter.append(word)\n",
    "    \n",
    "# lemmatized version of tags\n",
    "Tati_text = nltk.Text(Tati_filter)\n",
    "\n",
    "from nltk.probability import FreqDist\n",
    "fdist = FreqDist(Tati_text)\n",
    "fdist.most_common(20)"
   ]
  }
 ],
 "metadata": {
  "kernelspec": {
   "display_name": "Python 3 (ipykernel)",
   "language": "python",
   "name": "python3"
  },
  "language_info": {
   "codemirror_mode": {
    "name": "ipython",
    "version": 3
   },
   "file_extension": ".py",
   "mimetype": "text/x-python",
   "name": "python",
   "nbconvert_exporter": "python",
   "pygments_lexer": "ipython3",
   "version": "3.11.2"
  }
 },
 "nbformat": 4,
 "nbformat_minor": 5
}
